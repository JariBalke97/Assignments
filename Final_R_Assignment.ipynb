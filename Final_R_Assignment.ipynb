{
 "cells": [
  {
   "cell_type": "markdown",
   "metadata": {},
   "source": [
    "# Exam\n",
    "\n",
    "In this exam, we will work with the \"frequently requested health data” from the OECD.\n",
    "Your task is to compute a simple “efficiency score” and make three plots. \n",
    "\n",
    "library(ggplot2)\n",
    "library(dplyr)\n",
    "You will earn a higher grade if you provide nicer graphs.  \n"
   ]
  },
  {
   "cell_type": "markdown",
   "metadata": {},
   "source": [
    "Now you need to call the libaries\n",
    "\n",
    "* ggplot2\n",
    "* dplyr\n",
    "\n"
   ]
  },
  {
   "cell_type": "code",
   "execution_count": null,
   "metadata": {
    "collapsed": true
   },
   "outputs": [],
   "source": [
    "library(ggplot2)\n",
    "library(dplyr)"
   ]
  },
  {
   "cell_type": "markdown",
   "metadata": {},
   "source": [
    "Now you have to read the de data that we have cleaned during tutorial 3. The csv file is called oecddata.csv"
   ]
  },
  {
   "cell_type": "code",
   "execution_count": null,
   "metadata": {
    "collapsed": true
   },
   "outputs": [],
   "source": [
    "oecd <-read.csv2(\"oecddata.csv\", sep=';')"
   ]
  },
  {
   "cell_type": "markdown",
   "metadata": {},
   "source": [
    "To see how the data look like, use the command:\n",
    "\n",
    "head(oecd)\n",
    "\n",
    "With the command\n",
    "\n",
    "oecd\n",
    "\n",
    "\n",
    "You can see the dataset in total."
   ]
  },
  {
   "cell_type": "code",
   "execution_count": null,
   "metadata": {
    "collapsed": true
   },
   "outputs": [],
   "source": [
    "head(oecd)"
   ]
  },
  {
   "cell_type": "code",
   "execution_count": null,
   "metadata": {
    "collapsed": true
   },
   "outputs": [],
   "source": [
    "oecd"
   ]
  },
  {
   "cell_type": "markdown",
   "metadata": {},
   "source": [
    "## Graphs"
   ]
  },
  {
   "cell_type": "markdown",
   "metadata": {},
   "source": [
    "To make the graphs we need to make selections of the data. Please use \"dplyr\" (commands \"select\" and \"filter\") and the \"pipe\". The first assignment is to make a scatterplot using \"ggplot\". The graph contains data for all countries for the year 2014. Therefore make a dataframe with dplyr first, called \"graph1\" with the required data.\n",
    "Then, make a scatterplot with \"Cost\" on the x-axis and \"LE\" on the y-axis. You have to add a regression line with a shaded area for the confidence interval."
   ]
  },
  {
   "cell_type": "code",
   "execution_count": null,
   "metadata": {
    "collapsed": true
   },
   "outputs": [],
   "source": [
    "graph1 <- oecd%>%\n",
    "filter(Year==2014)\n",
    "\n",
    "ggplot(graph1, aes(x = Cost, y = LE)) + geom_point() + geom_smooth(method=lm)"
   ]
  },
  {
   "cell_type": "markdown",
   "metadata": {},
   "source": [
    "The second assignment is to make a line graph. You will use the years 2005-2015 for 5 countries (you can choose your own countries). Make a new dataframe called graph2 with the required data. Then, make a line graph with \"Year\"  and \"Cost\" on the y-axis. There should be coloured lines per country and a legend attached. "
   ]
  },
  {
   "cell_type": "code",
   "execution_count": null,
   "metadata": {
    "collapsed": false
   },
   "outputs": [],
   "source": [
    "graph2 <- filter(oecd, Country %in% c('Hungary', 'Turkey', 'Austria', 'Korea', 'Netherlands'))%>%\n",
    "select( Country, Year, Cost)\n",
    "\n",
    "ggplot(graph2, aes(x = Year , y = Cost, col=Country)) + geom_line()"
   ]
  },
  {
   "cell_type": "markdown",
   "metadata": {},
   "source": [
    "## Efficiency scores\n",
    "\n",
    "The last assignment is to compute simple effiency scores. We will use the year 2014 for all countries (i.e. the dataframe \"graph1\").\n",
    "Make a new dateframe called \"eff\" (using graph1). Please use the \"pipe\" to execute to following steps:\n",
    "Select all the variables except the NA's (hint: use na.omit) and create a new column called \"Ratio\" with mutate. Ratio is defined as \"Cost/LE\" (cost per output).\n",
    "Create a new column called \"Score\" with mutate. Score is the ratio per country divided by the lowest ratio in the dataframe.\n",
    "To complete this dataframe order the dataset using \"arrange\" based on score (i.e. lowest Score first).\n",
    "\n",
    "\n",
    "Finally make a bar chart using ggplot. Countries should be on the x-axis and \"Score\" on the y-axis. \n",
    "\n",
    "\n",
    "\n",
    "You can earn extra points if you are able to order the graph based on scores (lowest first, highest last), if you are able to make the x-axis readable, make the bar of the Netherlands red and the other bars blue and/or change the name of the y-axis to \"Efficiency scores according to [your name]\" \n",
    "\n",
    "\n",
    "The figure should like this:\n",
    "\n",
    "![My Figure](eff.png)"
   ]
  },
  {
   "cell_type": "code",
   "execution_count": null,
   "metadata": {
    "collapsed": false
   },
   "outputs": [],
   "source": [
    "eff <- graph1 %>%\n",
    "    filter(!is.na(LE)) %>%\n",
    "    mutate(Ratio = Cost / LE) %>%\n",
    "    mutate(Score = min(Ratio) / Ratio) %>%\n",
    "    arrange(Score)"
   ]
  },
  {
   "cell_type": "code",
   "execution_count": null,
   "metadata": {
    "collapsed": true
   },
   "outputs": [],
   "source": [
    "eff.bar <- ggplot(eff, aes(x = reorder(Country,Score), y = Score, fill= Country)) +\n",
    "        geom_bar(stat = \"identity\") +\n",
    "        theme(text = element_text(size=12), axis.text.x = element_text(angle = 45, hjust = 1))+\n",
    "        scale_fill_manual(values = c(rep(\"blue\",21),rep(\"red\",1),rep(\"blue\",12))) +\n",
    "        guides(fill=FALSE) +\n",
    "        xlab(\"Country\") +\n",
    "        ylab(\"Efficiency scores according to Jari Balke\")\n",
    " \n",
    "eff.bar"
   ]
  },
  {
   "cell_type": "code",
   "execution_count": null,
   "metadata": {
    "collapsed": true
   },
   "outputs": [],
   "source": []
  },
  {
   "cell_type": "code",
   "execution_count": null,
   "metadata": {
    "collapsed": true
   },
   "outputs": [],
   "source": []
  }
 ],
 "metadata": {
  "anaconda-cloud": {},
  "kernelspec": {
   "display_name": "R",
   "language": "R",
   "name": "ir"
  },
  "language_info": {
   "codemirror_mode": "r",
   "file_extension": ".r",
   "mimetype": "text/x-r-source",
   "name": "R",
   "pygments_lexer": "r",
   "version": "3.3.2"
  }
 },
 "nbformat": 4,
 "nbformat_minor": 1
}
